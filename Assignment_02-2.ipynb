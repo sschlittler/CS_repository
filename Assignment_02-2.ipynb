{
 "cells": [
  {
   "cell_type": "markdown",
   "metadata": {
    "id": "TSfQb_3w9CP3",
    "tags": []
   },
   "source": [
    "# Assignment 2: Programming I\n",
    "\n",
    "Please read the tasks description carefully and implement **only** what the tasks wants you to implement. Follow the instructions from the task description. There might be tasks that require you to write things you would do differently **but** you have to stay with the description. The test cases below each input cell is the gold standard. For this assignment, you do not need any error handling, you can assume that all input to your function will be valid.\n",
    "\n",
    "In this or any other assignment, using `print()` is encouraged to test your implementation but is is **never** required to use it. If your function has to **return** something, use the `return` statement. A `print()` is **not** a `return`&mdash;please make sure you understand this differentiation, it is important.\n",
    "\n",
    "Try to implement the tasks yourself or in a small team. If you blindly copy a solution from the internet or other students, you will not learn anything from it. Understand the solution! This takes practice.\n",
    "\n",
    "_Hint: If the test case succeeds, delete your solution and redo it the next day._\n",
    "\n",
    "Do not modify the _test cells_, by doing so you cheat your solution, which is not helpful for your learning process."
   ]
  },
  {
   "cell_type": "markdown",
   "metadata": {
    "id": "7Q0Qeuj69RbV"
   },
   "source": [
    "## Task 1\n",
    "\n",
    "Write a `for` loop that creates a `string` containing all numbers from `1` (inclusive) to `50` (exclusive) without spaces inbetween.\n",
    "\n",
    "The first five characters of the resulting string are `12345`. (All numbers from 1 to 5.)\n",
    "\n",
    "The result must be stored in a variable with the name `solution1`.\n",
    "\n",
    "_Hint: Use the [`range()`](https://docs.python.org/3/library/stdtypes.html#range) function and have a look in the lecture material (or the python documentation) how to concatenate strings._"
   ]
  },
  {
   "cell_type": "code",
   "execution_count": 19,
   "metadata": {
    "executionInfo": {
     "elapsed": 343,
     "status": "ok",
     "timestamp": 1632322011360,
     "user": {
      "displayName": "Bernhard Bermeitinger",
      "photoUrl": "https://lh3.googleusercontent.com/a-/AOh14GivXxt0TLtU4UXyER4_cY1H5s03j1oHP80xcb4=s64",
      "userId": "00323182743818884824"
     },
     "user_tz": -120
    },
    "id": "b9kbIA0A9QLT"
   },
   "outputs": [
    {
     "name": "stdout",
     "output_type": "stream",
     "text": [
      "12345678910111213141516171819202122232425262728293031323334353637383940414243444546474849\n"
     ]
    }
   ],
   "source": [
    "# Add your code here:\n",
    "\n",
    "### BEGIN SOLUTION\n",
    "string=str() # wenn das wir das erst innerhalb von Loop definieren würden würden wir den string bei jedem Durchgang wieder leeren\n",
    "\n",
    "for i in range(1,50): # for every element in elements do sth.\n",
    "    string+=str(i)\n",
    "solution1=string\n",
    "    \n",
    "print(solution1)\n",
    "\n",
    "\n",
    "\n",
    "\n",
    "### END SOLUTION"
   ]
  },
  {
   "cell_type": "code",
   "execution_count": 21,
   "metadata": {
    "colab": {
     "base_uri": "https://localhost:8080/"
    },
    "executionInfo": {
     "elapsed": 221,
     "status": "ok",
     "timestamp": 1632322048130,
     "user": {
      "displayName": "Bernhard Bermeitinger",
      "photoUrl": "https://lh3.googleusercontent.com/a-/AOh14GivXxt0TLtU4UXyER4_cY1H5s03j1oHP80xcb4=s64",
      "userId": "00323182743818884824"
     },
     "user_tz": -120
    },
    "id": "tWTJDI8F-T4R",
    "outputId": "9b1cd881-c6ae-4fe7-9c78-cd07a6a12ea5"
   },
   "outputs": [
    {
     "name": "stdout",
     "output_type": "stream",
     "text": [
      "\n",
      "\u001b[37;42;2m  Success! Your code works as intended.  \u001b[0m\n",
      "\n"
     ]
    }
   ],
   "source": [
    "# Test Cell. Do not modify!\n",
    "from unittest import TestCase\n",
    "test_case = TestCase()\n",
    "\n",
    "# Sanity check\n",
    "test_case.assertTrue('solution1' in locals(), msg='You must define the variable `solution1`.')\n",
    "test_case.assertIsInstance(solution1, str, msg='`solution1` must be a string.')\n",
    "test_case.assertTrue(len(solution1) > 0, msg='`solution1` does not contain any character.')\n",
    "\n",
    "# Common Mistakes\n",
    "test_case.assertFalse(solution1[0] == \"0\", msg=\"Your string starts wrongly with `0`.\")\n",
    "test_case.assertEqual(solution1[0], \"1\", msg=\"Your string must start with `1`.\")\n",
    "\n",
    "# Check if correct:\n",
    "test_case.assertEqual(\n",
    "    solution1,\n",
    "    '12345678910111213141516171819202122232425262728293031323334353637383940414243444546474849',\n",
    "    msg='Your string is not the same as the expected one.'\n",
    ")\n",
    "\n",
    "\n",
    "print(\"\\n\\033[37;42;2m  Success! Your code works as intended.  \\033[0m\\n\")"
   ]
  },
  {
   "cell_type": "markdown",
   "metadata": {
    "id": "9liLg1iy-hPC"
   },
   "source": [
    "## Task 2\n",
    "\n",
    "Write a `for` loop that creates a string containing all `even` numbers from `1` (inclusive) to `50` (exclusive) without spaces inbetween.\n",
    "\n",
    "The first five characters of the resulting string are `246810`. (The even numbers 2, 4, 6, 8, 10.)\n",
    "\n",
    "The result must be stored in a variable with the name `solution2`.\n",
    "\n",
    "_Hint: Use the [`range()`](https://docs.python.org/3/library/stdtypes.html#range) function. Check the possible parameters for this function so you can solve if without using the modulo operator._"
   ]
  },
  {
   "cell_type": "code",
   "execution_count": 24,
   "metadata": {
    "executionInfo": {
     "elapsed": 212,
     "status": "ok",
     "timestamp": 1632322199223,
     "user": {
      "displayName": "Bernhard Bermeitinger",
      "photoUrl": "https://lh3.googleusercontent.com/a-/AOh14GivXxt0TLtU4UXyER4_cY1H5s03j1oHP80xcb4=s64",
      "userId": "00323182743818884824"
     },
     "user_tz": -120
    },
    "id": "zUFRQa3z-av6"
   },
   "outputs": [
    {
     "name": "stdout",
     "output_type": "stream",
     "text": [
      "24681012141618202224262830323436384042444648\n"
     ]
    }
   ],
   "source": [
    "# Add your code here:\n",
    "\n",
    "### BEGIN SOLUTION\n",
    "\n",
    "string2=str()\n",
    "\n",
    "for i in range(2,50,2): # wenn man string kann man mit pluszeichen verketten\n",
    "    string2+=str(i)\n",
    "    solution2=string2\n",
    "print(solution2)\n",
    "\n",
    "\n",
    "    \n",
    "\n",
    "### END SOLUTION"
   ]
  },
  {
   "cell_type": "code",
   "execution_count": 15,
   "metadata": {
    "colab": {
     "base_uri": "https://localhost:8080/"
    },
    "executionInfo": {
     "elapsed": 232,
     "status": "ok",
     "timestamp": 1632322249121,
     "user": {
      "displayName": "Bernhard Bermeitinger",
      "photoUrl": "https://lh3.googleusercontent.com/a-/AOh14GivXxt0TLtU4UXyER4_cY1H5s03j1oHP80xcb4=s64",
      "userId": "00323182743818884824"
     },
     "user_tz": -120
    },
    "id": "jormUz77-4kM",
    "outputId": "ae1920e8-ec77-44fc-f4a2-112b86c4de55"
   },
   "outputs": [
    {
     "name": "stdout",
     "output_type": "stream",
     "text": [
      "\n",
      "\u001b[37;42;2m  Success! Your code works as intended.  \u001b[0m\n",
      "\n"
     ]
    }
   ],
   "source": [
    "# Test Cell. Do not modify!\n",
    "from unittest import TestCase\n",
    "test_case = TestCase()\n",
    "\n",
    "# Sanity check\n",
    "test_case.assertTrue('solution2' in locals(), msg='You must define the variable `solution2`.')\n",
    "test_case.assertIsInstance(solution2, str, msg='`solution2` must be a string.')\n",
    "test_case.assertTrue(len(solution2) > 0, msg='`solution2` does not contain any character.')\n",
    "\n",
    "# Common Mistakes\n",
    "test_case.assertFalse(solution2[0] == \"0\", msg=\"Your string starts wrongly with `0`.\")\n",
    "test_case.assertEqual(solution2[0], \"2\", msg=\"Your string must start with `2`.\")\n",
    "\n",
    "# Check if correct:\n",
    "test_case.assertEqual(\n",
    "    solution2,\n",
    "    '24681012141618202224262830323436384042444648',\n",
    "    msg='Your string is not the same as the expected one.'\n",
    ")\n",
    "\n",
    "\n",
    "print(\"\\n\\033[37;42;2m  Success! Your code works as intended.  \\033[0m\\n\")"
   ]
  },
  {
   "cell_type": "markdown",
   "metadata": {
    "id": "Mp3N7WR__Ucm"
   },
   "source": [
    "---\n",
    "## Task 3\n",
    "\n",
    "Write a `for` loop that creates a string containing the *digit sum* of number from `1000` to `2000` without spaces, starting at **1000**. (1000 inclusive, 2000 exclusive)\n",
    "Store the resulting string in the variable `solution3`.\n",
    "\n",
    "To calculate the _digit sum_, you sum up all individual digits in a number.\n",
    "\n",
    "An example for first five numbers:\n",
    "\n",
    "| Number  | Digit Sum    |\n",
    "| -------:|--------------:|\n",
    "| 1000       | 1 + 0 + 0 + 0 = 1 |\n",
    "| 1001       | 1 + 0 + 0 + 1 = 2 |\n",
    "| 1002       | 1 + 0 + 0 + 2 = 3 |\n",
    "| 1003      | 1 + 0 + 0 + 3 = 4|\n",
    "| 1004      | 1 + 0 + 0 + 4 = 5|\n",
    "\n",
    "The solution here would be the string `12345`. Calculate the digit sum of each number, **then** concatenate it to `solution3`.\n",
    "\n",
    "\n",
    "_Hint: Use the [`range()`](https://docs.python.org/3/library/stdtypes.html#range) function with the your specific parameters._\n",
    "\n",
    "_Hint: You can nest `for` loops (a loop within a loop)._\n",
    "\n",
    "_Hint: Keep in mind the different datatypes. This task will require a few back-and-forth conversions._"
   ]
  },
  {
   "cell_type": "code",
   "execution_count": 26,
   "metadata": {
    "executionInfo": {
     "elapsed": 228,
     "status": "ok",
     "timestamp": 1632322524515,
     "user": {
      "displayName": "Bernhard Bermeitinger",
      "photoUrl": "https://lh3.googleusercontent.com/a-/AOh14GivXxt0TLtU4UXyER4_cY1H5s03j1oHP80xcb4=s64",
      "userId": "00323182743818884824"
     },
     "user_tz": -120
    },
    "id": "6MAmX2-MAKCh"
   },
   "outputs": [
    {
     "name": "stdout",
     "output_type": "stream",
     "text": [
      "12345678910234567891011345678910111245678910111213567891011121314678910111213141578910111213141516891011121314151617910111213141516171810111213141516171819234567891011345678910111245678910111213567891011121314678910111213141578910111213141516891011121314151617910111213141516171810111213141516171819111213141516171819203456789101112456789101112135678910111213146789101112131415789101112131415168910111213141516179101112131415161718101112131415161718191112131415161718192012131415161718192021456789101112135678910111213146789101112131415789101112131415168910111213141516179101112131415161718101112131415161718191112131415161718192012131415161718192021131415161718192021225678910111213146789101112131415789101112131415168910111213141516179101112131415161718101112131415161718191112131415161718192012131415161718192021131415161718192021221415161718192021222367891011121314157891011121314151689101112131415161791011121314151617181011121314151617181911121314151617181920121314151617181920211314151617181920212214151617181920212223151617181920212223247891011121314151689101112131415161791011121314151617181011121314151617181911121314151617181920121314151617181920211314151617181920212214151617181920212223151617181920212223241617181920212223242589101112131415161791011121314151617181011121314151617181911121314151617181920121314151617181920211314151617181920212214151617181920212223151617181920212223241617181920212223242517181920212223242526910111213141516171810111213141516171819111213141516171819201213141516171819202113141516171819202122141516171819202122231516171819202122232416171819202122232425171819202122232425261819202122232425262710111213141516171819111213141516171819201213141516171819202113141516171819202122141516171819202122231516171819202122232416171819202122232425171819202122232425261819202122232425262719202122232425262728\n"
     ]
    }
   ],
   "source": [
    "# Add your code here\n",
    "\n",
    "### BEGIN SOLUTION\n",
    "\n",
    "\n",
    "solution3=str()\n",
    "\n",
    "for i in range(1000,2000):\n",
    "    digit_sum = sum([int(digits) for digits in str(i)]) # mache ein int() aus jedem element in dem string i und mach davon dann die summe (digits ist ein einzelnes element des strings)\n",
    "    solution3 += str(digit_sum)\n",
    "print(solution3)\n",
    "\n",
    "\n",
    "### END SOLUTION"
   ]
  },
  {
   "cell_type": "code",
   "execution_count": 53,
   "metadata": {
    "colab": {
     "base_uri": "https://localhost:8080/"
    },
    "executionInfo": {
     "elapsed": 231,
     "status": "ok",
     "timestamp": 1632322598601,
     "user": {
      "displayName": "Bernhard Bermeitinger",
      "photoUrl": "https://lh3.googleusercontent.com/a-/AOh14GivXxt0TLtU4UXyER4_cY1H5s03j1oHP80xcb4=s64",
      "userId": "00323182743818884824"
     },
     "user_tz": -120
    },
    "id": "vh6r6MlVARKh",
    "outputId": "9698507c-3f0f-4960-8f83-e5eeae417d35"
   },
   "outputs": [
    {
     "name": "stdout",
     "output_type": "stream",
     "text": [
      "\n",
      "\u001b[37;42;2m  Success! Your code works as intended.  \u001b[0m\n",
      "\n"
     ]
    }
   ],
   "source": [
    "# Test Cell, Do not modify.\n",
    "from unittest import TestCase\n",
    "test_case = TestCase()\n",
    "\n",
    "# Sanity Check\n",
    "test_case.assertTrue('solution3' in locals(), msg=\"You must define the variable `solution3`.\")\n",
    "test_case.assertIsInstance(solution3, str, msg='`solution3` must be a string.')\n",
    "test_case.assertTrue(len(solution3) > 0, msg='`solution3` does not contain any character.')\n",
    "\n",
    "# Common Mistakes\n",
    "test_case.assertFalse(solution3[0] == \"0\", msg=\"Your string starts with `0` (should start with `1`).\")\n",
    "test_case.assertEqual(solution3[0], \"1\", msg=\"Your string must start with `1`.\")\n",
    "\n",
    "# Full string\n",
    "test_case.assertEqual(\n",
    "    solution3,\n",
    "    '12345678910234567891011345678910111245678910111213567891011121314678910111213141578910111213141516891011121314151617910111213141516171810111213141516171819234567891011345678910111245678910111213567891011121314678910111213141578910111213141516891011121314151617910111213141516171810111213141516171819111213141516171819203456789101112456789101112135678910111213146789101112131415789101112131415168910111213141516179101112131415161718101112131415161718191112131415161718192012131415161718192021456789101112135678910111213146789101112131415789101112131415168910111213141516179101112131415161718101112131415161718191112131415161718192012131415161718192021131415161718192021225678910111213146789101112131415789101112131415168910111213141516179101112131415161718101112131415161718191112131415161718192012131415161718192021131415161718192021221415161718192021222367891011121314157891011121314151689101112131415161791011121314151617181011121314151617181911121314151617181920121314151617181920211314151617181920212214151617181920212223151617181920212223247891011121314151689101112131415161791011121314151617181011121314151617181911121314151617181920121314151617181920211314151617181920212214151617181920212223151617181920212223241617181920212223242589101112131415161791011121314151617181011121314151617181911121314151617181920121314151617181920211314151617181920212214151617181920212223151617181920212223241617181920212223242517181920212223242526910111213141516171810111213141516171819111213141516171819201213141516171819202113141516171819202122141516171819202122231516171819202122232416171819202122232425171819202122232425261819202122232425262710111213141516171819111213141516171819201213141516171819202113141516171819202122141516171819202122231516171819202122232416171819202122232425171819202122232425261819202122232425262719202122232425262728',\n",
    "    msg=\"Your solution3 is incorrect.\"\n",
    ")\n",
    "\n",
    "print(\"\\n\\033[37;42;2m  Success! Your code works as intended.  \\033[0m\\n\")"
   ]
  }
 ],
 "metadata": {
  "colab": {
   "collapsed_sections": [],
   "name": "Assignment_02_Solution.ipynb",
   "provenance": []
  },
  "copyright": {
   "author": "Bernhard Bermeitinger",
   "email": "bernhard.bermeitinger@unisg.ch"
  },
  "kernelspec": {
   "display_name": "Python 3",
   "language": "python",
   "name": "python3"
  },
  "language_info": {
   "codemirror_mode": {
    "name": "ipython",
    "version": 3
   },
   "file_extension": ".py",
   "mimetype": "text/x-python",
   "name": "python",
   "nbconvert_exporter": "python",
   "pygments_lexer": "ipython3",
   "version": "3.9.6"
  },
  "toc-autonumbering": false,
  "toc-showcode": false
 },
 "nbformat": 4,
 "nbformat_minor": 4
}
